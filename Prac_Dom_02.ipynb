{
  "nbformat": 4,
  "nbformat_minor": 0,
  "metadata": {
    "colab": {
      "provenance": [],
      "toc_visible": true,
      "authorship_tag": "ABX9TyMSEaxGc3FrF9Cl83eAT/WI",
      "include_colab_link": true
    },
    "kernelspec": {
      "name": "python3",
      "display_name": "Python 3"
    },
    "language_info": {
      "name": "python"
    }
  },
  "cells": [
    {
      "cell_type": "markdown",
      "metadata": {
        "id": "view-in-github",
        "colab_type": "text"
      },
      "source": [
        "<a href=\"https://colab.research.google.com/github/GoreckiArtur/-Zaawansowane-przetwarzanie-obrazu/blob/main/Prac_Dom_02.ipynb\" target=\"_parent\"><img src=\"https://colab.research.google.com/assets/colab-badge.svg\" alt=\"Open In Colab\"/></a>"
      ]
    },
    {
      "cell_type": "markdown",
      "source": [
        "# Artur Górecki - praca domowa 02"
      ],
      "metadata": {
        "id": "h2G0rZ1iMr_C"
      }
    },
    {
      "cell_type": "markdown",
      "source": [
        "##*1) Obliczyć moduł i kąt fazowy następujących wyrażeń:*\n",
        "\n",
        "\n",
        "1.   i^2\n"
      ],
      "metadata": {
        "id": "fKMXYYG0ENrB"
      }
    },
    {
      "cell_type": "code",
      "execution_count": null,
      "metadata": {
        "id": "_dzxWteeEM8s",
        "colab": {
          "base_uri": "https://localhost:8080/"
        },
        "outputId": "cb74b9ef-6a1a-426f-f818-1fcd8bc073ee"
      },
      "outputs": [
        {
          "output_type": "stream",
          "name": "stdout",
          "text": [
            "Wynik ręczny: moduł = 1, kąt fazowy = π\n",
            "Wynik obliczeń w Pythonie:\n",
            "Moduł: 1.0\n",
            "Kąt fazowy (w radianach): 3.141592653589793\n"
          ]
        }
      ],
      "source": [
        "import cmath\n",
        "\n",
        "# Definiowanie liczby zespolonej i^2\n",
        "z = 1j ** 2\n",
        "\n",
        "# Obliczanie modułu\n",
        "modul = abs(z)\n",
        "\n",
        "# Obliczanie kąta fazowego w radianach\n",
        "kat_fazowy = cmath.phase(z)\n",
        "\n",
        "# Wyświetlanie wyników\n",
        "print(\"Wynik ręczny: moduł = 1, kąt fazowy = π\")\n",
        "print(\"Wynik obliczeń w Pythonie:\")\n",
        "print(\"Moduł:\", modul)\n",
        "print(\"Kąt fazowy (w radianach):\", kat_fazowy)"
      ]
    },
    {
      "cell_type": "markdown",
      "source": [
        "  2. i^3"
      ],
      "metadata": {
        "id": "YDEEE_G3FDAe"
      }
    },
    {
      "cell_type": "code",
      "source": [
        "import cmath\n",
        "\n",
        "# Definiowanie liczby zespolonej i^3\n",
        "z = 1j ** 3\n",
        "\n",
        "# Obliczanie modułu\n",
        "modul = abs(z)\n",
        "\n",
        "# Obliczanie kąta fazowego w radianach\n",
        "kat_fazowy = cmath.phase(z)\n",
        "\n",
        "# Wyświetlanie wyników\n",
        "print(\"Wynik ręczny: moduł = 1, kąt fazowy = -π/2\")\n",
        "print(\"Wynik obliczeń w Pythonie:\")\n",
        "print(\"Moduł:\", modul)\n",
        "print(\"Kąt fazowy (w radianach):\", kat_fazowy)\n"
      ],
      "metadata": {
        "colab": {
          "base_uri": "https://localhost:8080/"
        },
        "id": "0rXi-lVQGScV",
        "outputId": "1931df54-524e-4b4b-b12a-2cbc5c63a2da"
      },
      "execution_count": null,
      "outputs": [
        {
          "output_type": "stream",
          "name": "stdout",
          "text": [
            "Wynik ręczny: moduł = 1, kąt fazowy = -π/2\n",
            "Wynik obliczeń w Pythonie:\n",
            "Moduł: 1.0\n",
            "Kąt fazowy (w radianach): -1.5707963267948966\n"
          ]
        }
      ]
    },
    {
      "cell_type": "markdown",
      "source": [
        "  3. i^4"
      ],
      "metadata": {
        "id": "68XFVLusHAut"
      }
    },
    {
      "cell_type": "code",
      "source": [
        "import cmath\n",
        "\n",
        "# Definiowanie liczby zespolonej i^4\n",
        "z = 1j ** 4\n",
        "\n",
        "# Obliczanie modułu\n",
        "modul = abs(z)\n",
        "\n",
        "# Obliczanie kąta fazowego w radianach\n",
        "kat_fazowy = cmath.phase(z)\n",
        "\n",
        "# Wyświetlanie wyników\n",
        "print(\"Wynik ręczny: moduł = 1, kąt fazowy = 0\")\n",
        "print(\"Wynik obliczeń w Pythonie:\")\n",
        "print(\"Moduł:\", modul)\n",
        "print(\"Kąt fazowy (w radianach):\", kat_fazowy)"
      ],
      "metadata": {
        "colab": {
          "base_uri": "https://localhost:8080/"
        },
        "id": "nEaaJPkjHE_B",
        "outputId": "ad17d367-dd0b-4d53-9308-2b63ebcecce4"
      },
      "execution_count": null,
      "outputs": [
        {
          "output_type": "stream",
          "name": "stdout",
          "text": [
            "Wynik ręczny: moduł = 1, kąt fazowy = 0\n",
            "Wynik obliczeń w Pythonie:\n",
            "Moduł: 1.0\n",
            "Kąt fazowy (w radianach): 0.0\n"
          ]
        }
      ]
    },
    {
      "cell_type": "markdown",
      "source": [
        "4. 1/i"
      ],
      "metadata": {
        "id": "Fjtn6DJEHV9I"
      }
    },
    {
      "cell_type": "code",
      "source": [
        "import cmath\n",
        "\n",
        "# Definiowanie liczby zespolonej 1/i\n",
        "z = 1j ** (-1)\n",
        "\n",
        "# Obliczanie modułu\n",
        "modul = abs(z)\n",
        "\n",
        "# Obliczanie kąta fazowego w radianach\n",
        "kat_fazowy = cmath.phase(z)\n",
        "\n",
        "# Wyświetlanie wyników\n",
        "print(\"Wynik ręczny: moduł = 1, kąt fazowy = -π/2\")\n",
        "print(\"Wynik obliczeń w Pythonie:\")\n",
        "print(\"Moduł:\", modul)\n",
        "print(\"Kąt fazowy (w radianach):\", kat_fazowy)"
      ],
      "metadata": {
        "colab": {
          "base_uri": "https://localhost:8080/"
        },
        "id": "RQvKErAvHWOH",
        "outputId": "c6e922d1-91a2-46e3-f6b3-417fad7f1a12"
      },
      "execution_count": null,
      "outputs": [
        {
          "output_type": "stream",
          "name": "stdout",
          "text": [
            "Wynik ręczny: moduł = 1, kąt fazowy = -π/2\n",
            "Wynik obliczeń w Pythonie:\n",
            "Moduł: 1.0\n",
            "Kąt fazowy (w radianach): -1.5707963267948966\n"
          ]
        }
      ]
    },
    {
      "cell_type": "markdown",
      "source": [
        "5. (1+2i)(2-i)=4+3i"
      ],
      "metadata": {
        "id": "SyY6PmSfHm_3"
      }
    },
    {
      "cell_type": "code",
      "source": [
        "import cmath\n",
        "\n",
        "# Definiowanie liczby zespolonej (1+2j)(2-1j)\n",
        "z = 4+3j\n",
        "\n",
        "# Obliczanie modułu\n",
        "modul = abs(z)\n",
        "\n",
        "# Obliczanie kąta fazowego w radianach\n",
        "kat_fazowy = cmath.phase(z)\n",
        "\n",
        "# Wyświetlanie wyników\n",
        "print(\"Wynik ręczny: moduł = 5, kąt fazowy = 0.64350110879328438\")\n",
        "print(\"Wynik obliczeń w Pythonie:\")\n",
        "print(\"Moduł:\", modul)\n",
        "print(\"Kąt fazowy (w radianach):\", kat_fazowy)"
      ],
      "metadata": {
        "colab": {
          "base_uri": "https://localhost:8080/"
        },
        "id": "cTHwviv6HnQo",
        "outputId": "c85e276f-ba66-4dd6-c411-daf2141aa7e5"
      },
      "execution_count": null,
      "outputs": [
        {
          "output_type": "stream",
          "name": "stdout",
          "text": [
            "Wynik ręczny: moduł = 5, kąt fazowy = 0.64350110879328438\n",
            "Wynik obliczeń w Pythonie:\n",
            "Moduł: 5.0\n",
            "Kąt fazowy (w radianach): 0.6435011087932844\n"
          ]
        }
      ]
    },
    {
      "cell_type": "markdown",
      "source": [
        "6. (1+i)(1+2i)(1+3i) = -10"
      ],
      "metadata": {
        "id": "5ihhlUGTKMTE"
      }
    },
    {
      "cell_type": "code",
      "source": [
        "import cmath\n",
        "\n",
        "# Definiowanie liczby zespolonej (1+i)(1+2i)(1+3i)\n",
        "z = (1+1j)*(1+2j)*(1+3j)\n",
        "\n",
        "# Obliczanie modułu\n",
        "modul = abs(z)\n",
        "\n",
        "# Obliczanie kąta fazowego w radianach\n",
        "kat_fazowy = cmath.phase(z)\n",
        "\n",
        "# Wyświetlanie wyników\n",
        "print(\"Wynik ręczny: moduł = 10, kąt fazowy = π\")\n",
        "print(\"Wynik obliczeń w Pythonie:\")\n",
        "print(\"Moduł:\", modul)\n",
        "print(\"Kąt fazowy (w radianach):\", kat_fazowy)"
      ],
      "metadata": {
        "colab": {
          "base_uri": "https://localhost:8080/"
        },
        "id": "l-gJrabdKMah",
        "outputId": "e0b975e9-af5b-4c3f-978a-913b2ee37439"
      },
      "execution_count": null,
      "outputs": [
        {
          "output_type": "stream",
          "name": "stdout",
          "text": [
            "Wynik ręczny: moduł = 10, kąt fazowy = π\n",
            "Wynik obliczeń w Pythonie:\n",
            "Moduł: 10.0\n",
            "Kąt fazowy (w radianach): 3.141592653589793\n"
          ]
        }
      ]
    },
    {
      "cell_type": "markdown",
      "source": [
        "7. (1/2 sqrt(2)+i/2 sqrt(2))^2 = i"
      ],
      "metadata": {
        "id": "QXLrISeWK-im"
      }
    },
    {
      "cell_type": "code",
      "source": [
        "import cmath\n",
        "\n",
        "# Definiowanie liczby zespolonej (1/2 sqrt(2)+i/2 sqrt(2))^2\n",
        "z = (1/2 * cmath.sqrt(2) + 1j/2 * cmath.sqrt(2)) ** 2\n",
        "\n",
        "# Obliczanie modułu\n",
        "modul = abs(z)\n",
        "\n",
        "# Obliczanie kąta fazowego w radianach\n",
        "kat_fazowy = cmath.phase(z)\n",
        "\n",
        "# Wyświetlanie wyników\n",
        "print(\"Wynik ręczny: moduł = 1, kąt fazowy = π/2\")\n",
        "print(\"Wynik obliczeń w Pythonie:\")\n",
        "print(\"Moduł:\", modul)\n",
        "print(\"Kąt fazowy (w radianach):\", kat_fazowy)"
      ],
      "metadata": {
        "colab": {
          "base_uri": "https://localhost:8080/"
        },
        "id": "RZD5YUvoK-qg",
        "outputId": "a66622fa-e785-4e50-fc6b-b88174d532ca"
      },
      "execution_count": null,
      "outputs": [
        {
          "output_type": "stream",
          "name": "stdout",
          "text": [
            "Wynik ręczny: moduł = 1, kąt fazowy = π/2\n",
            "Wynik obliczeń w Pythonie:\n",
            "Moduł: 1.0000000000000002\n",
            "Kąt fazowy (w radianach): 1.5707963267948966\n"
          ]
        }
      ]
    },
    {
      "cell_type": "markdown",
      "source": [
        "8. (1/2 + i/2 sqrt(3))^3 = -1"
      ],
      "metadata": {
        "id": "78dKRm-0Lsce"
      }
    },
    {
      "cell_type": "code",
      "source": [
        "import cmath\n",
        "\n",
        "# Definiowanie liczby zespolonej (1/2 + i/2 sqrt(3))^3\n",
        "z = (1/2 + 1j/2 * cmath.sqrt(3)) ** 3\n",
        "\n",
        "# Obliczanie modułu\n",
        "modul = abs(z)\n",
        "\n",
        "# Obliczanie kąta fazowego w radianach\n",
        "kat_fazowy = cmath.phase(z)\n",
        "\n",
        "# Wyświetlanie wyników\n",
        "print(\"Wynik ręczny: moduł = 1, kąt fazowy = π\")\n",
        "print(\"Wynik obliczeń w Pythonie:\")\n",
        "print(\"Moduł:\", modul)\n",
        "print(\"Kąt fazowy (w radianach):\", kat_fazowy)"
      ],
      "metadata": {
        "colab": {
          "base_uri": "https://localhost:8080/"
        },
        "id": "4OhnVT79LsnM",
        "outputId": "89bbc9a7-d49f-4d9a-9ead-2675d5c7ce7f"
      },
      "execution_count": null,
      "outputs": [
        {
          "output_type": "stream",
          "name": "stdout",
          "text": [
            "Wynik ręczny: moduł = 1, kąt fazowy = π\n",
            "Wynik obliczeń w Pythonie:\n",
            "Moduł: 0.9999999999999998\n",
            "Kąt fazowy (w radianach): 3.141592653589793\n"
          ]
        }
      ]
    },
    {
      "cell_type": "markdown",
      "source": [
        "9. 1/1+i = 1/2 - 1/2i"
      ],
      "metadata": {
        "id": "40JaleyxMT6R"
      }
    },
    {
      "cell_type": "code",
      "source": [
        "import cmath\n",
        "\n",
        "# Definiowanie liczby zespolonej 1/1+i\n",
        "z = 1 / (1 + 1j)\n",
        "\n",
        "# Obliczanie modułu\n",
        "modul = abs(z)\n",
        "\n",
        "# Obliczanie kąta fazowego w radianach\n",
        "kat_fazowy = cmath.phase(z)\n",
        "\n",
        "# Wyświetlanie wyników\n",
        "print(\"Wynik ręczny: moduł = sqrt(2)/2, kąt fazowy = -π/4\")\n",
        "print(\"Wynik obliczeń w Pythonie:\")\n",
        "print(\"Moduł:\", modul)\n",
        "print(\"Kąt fazowy (w radianach):\", kat_fazowy)"
      ],
      "metadata": {
        "colab": {
          "base_uri": "https://localhost:8080/"
        },
        "id": "_qD5ktYBMUEQ",
        "outputId": "36717b2f-2259-486b-f16e-b27121665f9c"
      },
      "execution_count": null,
      "outputs": [
        {
          "output_type": "stream",
          "name": "stdout",
          "text": [
            "Wynik ręczny: moduł = sqrt(2)/2, kąt fazowy = -π/4\n",
            "Wynik obliczeń w Pythonie:\n",
            "Moduł: 0.7071067811865476\n",
            "Kąt fazowy (w radianach): -0.7853981633974483\n"
          ]
        }
      ]
    },
    {
      "cell_type": "markdown",
      "source": [
        "10. 5/2-i = 2+i"
      ],
      "metadata": {
        "id": "EGI55JD6NBhA"
      }
    },
    {
      "cell_type": "code",
      "source": [
        "import cmath\n",
        "\n",
        "# Definiowanie liczby zespolonej 1/1+i\n",
        "z = 5 / (2 - 1j)\n",
        "\n",
        "# Obliczanie modułu\n",
        "modul = abs(z)\n",
        "\n",
        "# Obliczanie kąta fazowego w radianach\n",
        "kat_fazowy = cmath.phase(z)\n",
        "\n",
        "# Wyświetlanie wyników\n",
        "print(\"Wynik ręczny: moduł = sqrt(5), kąt fazowy = 0.46364760900080611621\")\n",
        "print(\"Wynik obliczeń w Pythonie:\")\n",
        "print(\"Moduł:\", modul)\n",
        "print(\"Kąt fazowy (w radianach):\", kat_fazowy)"
      ],
      "metadata": {
        "colab": {
          "base_uri": "https://localhost:8080/"
        },
        "id": "Ge2YSjCUNCLZ",
        "outputId": "1d997a6e-630a-4e90-df17-8e7a5258d4cf"
      },
      "execution_count": null,
      "outputs": [
        {
          "output_type": "stream",
          "name": "stdout",
          "text": [
            "Wynik ręczny: moduł = sqrt(5), kąt fazowy = 0.46364760900080611621\n",
            "Wynik obliczeń w Pythonie:\n",
            "Moduł: 2.23606797749979\n",
            "Kąt fazowy (w radianach): 0.4636476090008061\n"
          ]
        }
      ]
    },
    {
      "cell_type": "markdown",
      "source": [
        "##2) Znaleźć wyrażenia na:\n",
        "  1. cos4Θ\n",
        "\n",
        "Wykorzystując wiedzę, że (cosTheta + isinTheta)^n = cosnTheta +isinTheta otrzymujemy: ({cos}^4\\Theta-6{cos}^2\\Theta{sin}^2\\Theta-{sin}^4\\Theta)+i(4{cos}^3\\Theta sin\\Theta+4cos\\Theta({sin)}^3\\Theta)\n",
        "\n",
        "Następnie, separując część rzeczywistą równania otrzymujemy:\n",
        "cos4Θ={cos}^4\\Theta-6{cos}^2\\Theta{sin}^2\\Theta-{sin}^4\\Theta.\n",
        "Wykorzystując właściwości jedynki trygonometrycznej:\n",
        "cos4\\Theta\\ =\\ \\ 8{cos}^4\\Theta-6{cos}^2\\Theta+1\n",
        "\n",
        "\n"
      ],
      "metadata": {
        "id": "n9l7Hpu2NUcb"
      }
    },
    {
      "cell_type": "code",
      "source": [
        "import cmath\n",
        "\n",
        "# Definicja listy kątów theta (w radianach)\n",
        "thetas = [0, cmath.pi / 2, cmath.pi]\n",
        "\n",
        "# Obliczenie i wyświetlenie części rzeczywistej dla każdego kąta theta\n",
        "for theta in thetas:\n",
        "    # Obliczenie wyrażenia\n",
        "    result_complex = (cmath.cos(theta) + 1j * cmath.sin(theta)) ** 4\n",
        "\n",
        "    # Wyświetlenie części rzeczywistej\n",
        "    # Dla Theta = 0, z powyższych obliczeń, powinniśmy otrzymać 1.\n",
        "    print(f\"Dla theta = {theta}: Część rzeczywista wyniku:\", result_complex.real)"
      ],
      "metadata": {
        "colab": {
          "base_uri": "https://localhost:8080/"
        },
        "id": "iA2D46SJR9hn",
        "outputId": "e6f4a45b-7dd5-4e3a-94ad-a90727a8f90f"
      },
      "execution_count": null,
      "outputs": [
        {
          "output_type": "stream",
          "name": "stdout",
          "text": [
            "Dla theta = 0: Część rzeczywista wyniku: 1.0\n",
            "Dla theta = 1.5707963267948966: Część rzeczywista wyniku: 1.0\n",
            "Dla theta = 3.141592653589793: Część rzeczywista wyniku: 1.0\n"
          ]
        }
      ]
    },
    {
      "cell_type": "markdown",
      "source": [
        "2. sin4Θ\n",
        "Natomiast sinus to ta ostateczna część równania \\left(cos\\Theta+isin\\Theta\\right)^4, która zawiera i. Zatem sin4\\Theta=4{cos}^3\\Theta sin\\Theta+4cos\\Theta{sin}^3\\Theta"
      ],
      "metadata": {
        "id": "6v4eOjBiS8yt"
      }
    },
    {
      "cell_type": "code",
      "source": [
        "import cmath\n",
        "\n",
        "# Definicja listy kątów theta (w radianach)\n",
        "thetas = [0, cmath.pi / 2, cmath.pi]\n",
        "\n",
        "# Obliczenie i wyświetlenie części rzeczywistej dla każdego kąta theta\n",
        "for theta in thetas:\n",
        "    # Obliczenie wyrażenia\n",
        "    result_complex = (cmath.cos(theta) + 1j * cmath.sin(theta)) ** 4\n",
        "\n",
        "    # Wyświetlenie części rzeczywistej\n",
        "    # Dla Theta = 0, z powyższych obliczeń, powinniśmy otrzymać 0.\n",
        "    print(f\"Dla theta = {theta}: Część rzeczywista wyniku:\", result_complex.imag)"
      ],
      "metadata": {
        "colab": {
          "base_uri": "https://localhost:8080/"
        },
        "id": "zSfVb8jcS87N",
        "outputId": "33182352-f534-49ad-cdbb-0141c2762e9b"
      },
      "execution_count": null,
      "outputs": [
        {
          "output_type": "stream",
          "name": "stdout",
          "text": [
            "Dla theta = 0: Część rzeczywista wyniku: 0.0\n",
            "Dla theta = 1.5707963267948966: Część rzeczywista wyniku: -2.4492935982947064e-16\n",
            "Dla theta = 3.141592653589793: Część rzeczywista wyniku: -4.898587196589413e-16\n"
          ]
        }
      ]
    },
    {
      "cell_type": "markdown",
      "source": [
        "\n",
        "  3. cos5Θ\n",
        "\n",
        "Wykorzystując wiedzę, że (cosTheta + isinTheta)^n = cosnTheta +isinTheta otrzymujemy: ({cos}^5\\Theta-10{cos}^3\\Theta({sin)}^2\\Theta+5cos\\Theta({sin)}^4\\Theta)+i(5{cos}^4\\Theta sin\\Theta-10{cos}^2\\Theta({sin)}^3\\Theta+({sin)}^5\\Theta)\n",
        "\n",
        "Zatem cos5Θ=𝑐𝑜𝑠5Θ−10𝑐𝑜𝑠3Θ(𝑠𝑖𝑛)2Θ+5𝑐𝑜𝑠Θ(𝑠𝑖𝑛)4Θ"
      ],
      "metadata": {
        "id": "JdFY7FCGTbeM"
      }
    },
    {
      "cell_type": "code",
      "source": [
        "import cmath\n",
        "\n",
        "# Definicja listy kątów theta (w radianach)\n",
        "thetas = [0, cmath.pi / 2, cmath.pi]\n",
        "\n",
        "# Obliczenie i wyświetlenie części rzeczywistej dla każdego kąta theta\n",
        "for theta in thetas:\n",
        "    # Obliczenie wyrażenia\n",
        "    result_complex = (cmath.cos(theta) + 1j * cmath.sin(theta)) ** 5\n",
        "\n",
        "    # Wyświetlenie części rzeczywistej\n",
        "    # Dla Theta = 0, z powyższych obliczeń, powinniśmy otrzymać 1.\n",
        "    print(f\"Dla theta = {theta}: Część rzeczywista wyniku:\", result_complex.real)"
      ],
      "metadata": {
        "colab": {
          "base_uri": "https://localhost:8080/"
        },
        "id": "CiFsxX1pTbuK",
        "outputId": "81fd8374-47c2-4df4-d8bb-77a60ac5aece"
      },
      "execution_count": null,
      "outputs": [
        {
          "output_type": "stream",
          "name": "stdout",
          "text": [
            "Dla theta = 0: Część rzeczywista wyniku: 1.0\n",
            "Dla theta = 1.5707963267948966: Część rzeczywista wyniku: 3.061616997868383e-16\n",
            "Dla theta = 3.141592653589793: Część rzeczywista wyniku: -1.0\n"
          ]
        }
      ]
    },
    {
      "cell_type": "markdown",
      "source": [
        "cos6Θ\n",
        "(𝑐𝑜𝑠Θ + 𝑖𝑠𝑖𝑛Θ)6\n",
        "= 𝑐𝑜𝑠6Θ + 6𝑐𝑜𝑠5Θ𝑖𝑠𝑖𝑛Θ + 15𝑐𝑜𝑠4Θ(𝑖𝑠𝑖𝑛)2Θ + 20𝑐𝑜𝑠3Θ(𝑖𝑠𝑖𝑛)3Θ\n",
        "+ 15𝑐𝑜𝑠2Θ(𝑖𝑠𝑖𝑛)4Θ + 6𝑐𝑜𝑠Θ(𝑖𝑠𝑖𝑛)5Θ + (𝑖𝑠𝑖𝑛)6Θ\n",
        "= (𝑐𝑜𝑠6Θ − 15𝑐𝑜𝑠4Θ(𝑠𝑖𝑛)2Θ + 15𝑐𝑜𝑠2Θ(𝑠𝑖𝑛)4Θ − (𝑠𝑖𝑛)6Θ)\n",
        "+ i(6𝑐𝑜𝑠5Θ𝑠𝑖𝑛Θ − 20𝑐𝑜𝑠3Θ(𝑠𝑖𝑛)3Θ + 6𝑐𝑜𝑠 Θ(𝑠𝑖𝑛)5Θ)\n",
        "Zatem 𝑐𝑜𝑠6Θ = 𝑐𝑜𝑠6Θ − 15𝑐𝑜𝑠4Θ(𝑠𝑖𝑛)2Θ + 15𝑐𝑜𝑠2Θ(𝑠𝑖𝑛)4Θ − (𝑠𝑖𝑛)6Θ.\n",
        "Wykorzystując właściwości tożsamości jedynki trygonometrycznej, zamieniono\n",
        "𝑠𝑖𝑛2 𝑛𝑎 (1 − 𝑐𝑜𝑠2). Zatem, ostatecznie,\n",
        "𝑐𝑜𝑠6Θ = 32𝑐𝑜𝑠6Θ − 48𝑐𝑜𝑠4Θ + 18𝑐𝑜𝑠2Θ − 1"
      ],
      "metadata": {
        "id": "kNl9EV3TTb2U"
      }
    },
    {
      "cell_type": "code",
      "source": [
        "import cmath\n",
        "\n",
        "# Definicja listy kątów theta (w radianach)\n",
        "thetas = [0, cmath.pi / 2, cmath.pi]\n",
        "\n",
        "# Obliczenie i wyświetlenie części rzeczywistej dla każdego kąta theta\n",
        "for theta in thetas:\n",
        "    # Obliczenie wyrażenia\n",
        "    result_complex = (cmath.cos(theta) + 1j * cmath.sin(theta)) ** 6\n",
        "\n",
        "    # Wyświetlenie części rzeczywistej\n",
        "    # Dla Theta = 0, z powyższych obliczeń, powinniśmy otrzymać 1.\n",
        "    print(f\"Dla theta = {theta}: Część rzeczywista wyniku:\", result_complex.real)"
      ],
      "metadata": {
        "colab": {
          "base_uri": "https://localhost:8080/"
        },
        "id": "TQJJkGajTcAY",
        "outputId": "a3cf42e4-8000-496c-a196-c00bfa56f3d6"
      },
      "execution_count": null,
      "outputs": [
        {
          "output_type": "stream",
          "name": "stdout",
          "text": [
            "Dla theta = 0: Część rzeczywista wyniku: 1.0\n",
            "Dla theta = 1.5707963267948966: Część rzeczywista wyniku: -1.0\n",
            "Dla theta = 3.141592653589793: Część rzeczywista wyniku: 1.0\n"
          ]
        }
      ]
    },
    {
      "cell_type": "markdown",
      "source": [
        "##3) Sporządzić wykres w skali następujących wyrażeń:"
      ],
      "metadata": {
        "id": "cx9J1O48oaQH"
      }
    },
    {
      "cell_type": "code",
      "source": [
        "import numpy as np\n",
        "import matplotlib.pyplot as plt\n",
        "\n",
        "# Definicja liczby zespolonej w\n",
        "w = 3 + 1j\n",
        "\n",
        "# Obliczenia\n",
        "expressions = [\n",
        "    (w, 'w'),\n",
        "    (2 * w, '2w'),\n",
        "    ((3/4) * w, '3/4w'),\n",
        "    (1j * w, 'iw'),\n",
        "    (-2j * w, '-2iw'),\n",
        "    ((2 + 1j) * w, '(2+i)w'),\n",
        "    ((2 - 1j) * w, '(2-i)w'),\n",
        "    (np.conj(w), 'Dopełnienie w'),\n",
        "    (-np.conj(w), '-Dopełnienie w'),\n",
        "    (-w, '-w')\n",
        "]\n",
        "\n",
        "# Pobranie części rzeczywistej i urojonej oraz etykiet\n",
        "real_parts = [z.real for z, _ in expressions]\n",
        "imag_parts = [z.imag for z, _ in expressions]\n",
        "labels = [label for _, label in expressions]\n",
        "\n",
        "# Rysowanie wykresu\n",
        "plt.figure(figsize=(10, 6))\n",
        "plt.plot(real_parts, imag_parts, 'bo', label='Wyrażenia zespolone ')\n",
        "\n",
        "# Dodanie etykiet do punktów\n",
        "for i, label in enumerate(labels):\n",
        "    plt.text(real_parts[i], imag_parts[i], label, fontsize=9, ha='left', va='bottom')\n",
        "\n",
        "# Zaznaczenie osi\n",
        "plt.axhline(0, color='black',linewidth=0.5)\n",
        "plt.axvline(0, color='black',linewidth=0.5)\n",
        "\n",
        "# Dodanie wektorów\n",
        "for z, _ in expressions:\n",
        "    plt.quiver(0, 0, z.real, z.imag, angles='xy', scale_units='xy', scale=1, color='red')\n",
        "\n",
        "plt.xlabel('Re')\n",
        "plt.ylabel('Im')\n",
        "plt.title('Wykres wyrażeń zespolonych')\n",
        "plt.grid(True)\n",
        "plt.legend()\n",
        "plt.show()\n"
      ],
      "metadata": {
        "colab": {
          "base_uri": "https://localhost:8080/",
          "height": 565
        },
        "id": "PWT0YPHlaKr2",
        "outputId": "39a170ff-64d9-4af2-c285-df918955e32f"
      },
      "execution_count": null,
      "outputs": [
        {
          "output_type": "display_data",
          "data": {
            "text/plain": [
              "<Figure size 1000x600 with 1 Axes>"
            ],
            "image/png": "[encoded data removed]"
          },
          "metadata": {}
        }
      ]
    },
    {
      "cell_type": "code",
      "source": [
        "import numpy as np\n",
        "import pandas as pd\n",
        "\n",
        "# Definicja liczby zespolonej w\n",
        "w = 3 + 1j\n",
        "\n",
        "# Obliczenia\n",
        "expressions = [\n",
        "    (w, 'w'),\n",
        "    (2 * w, '2w'),\n",
        "    ((3/4) * w, '3/4w'),\n",
        "    (1j * w, 'iw'),\n",
        "    (-2j * w, '-2iw'),\n",
        "    ((2 + 1j) * w, '(2+i)w'),\n",
        "    ((2 - 1j) * w, '(2-i)w'),\n",
        "    (np.conj(w), 'Dopełnienie w'),\n",
        "    (-np.conj(w), '-Dopełnienie w'),\n",
        "    (-w, '-w')\n",
        "]\n",
        "\n",
        "# Obliczanie wartości liczb zespolonych\n",
        "results = []\n",
        "for z, label in expressions:\n",
        "    result = np.round(z, 5)\n",
        "    results.append((label, result.real, result.imag))\n",
        "\n",
        "# Tworzenie DataFrame\n",
        "df = pd.DataFrame(results, columns=['Wyrażenie', 'Re', 'Im'])\n",
        "\n",
        "print(df)\n"
      ],
      "metadata": {
        "colab": {
          "base_uri": "https://localhost:8080/"
        },
        "id": "89kC0FXGp_yt",
        "outputId": "9490cd64-fc59-4ff3-cac1-59451f03fb68"
      },
      "execution_count": null,
      "outputs": [
        {
          "output_type": "stream",
          "name": "stdout",
          "text": [
            "        Wyrażenie    Re    Im\n",
            "0               w  3.00  1.00\n",
            "1              2w  6.00  2.00\n",
            "2            3/4w  2.25  0.75\n",
            "3              iw -1.00  3.00\n",
            "4            -2iw  2.00 -6.00\n",
            "5          (2+i)w  5.00  5.00\n",
            "6          (2-i)w  7.00 -1.00\n",
            "7   Dopełnienie w  3.00 -1.00\n",
            "8  -Dopełnienie w -3.00  1.00\n",
            "9              -w -3.00 -1.00\n"
          ]
        }
      ]
    },
    {
      "cell_type": "markdown",
      "source": [
        "##4) Obliczyć i narysować następujące liczby"
      ],
      "metadata": {
        "id": "MDvk5AKgMKyI"
      }
    },
    {
      "cell_type": "code",
      "source": [
        "import numpy as np\n",
        "import matplotlib.pyplot as plt\n",
        "\n",
        "# Wyrażenia zespolone\n",
        "expressions = [\n",
        "    (np.exp(np.pi * 1j / 3), 'e^(πi/3)'),\n",
        "    (np.exp(np.pi * 1j / 2), 'e^(πi/2)'),\n",
        "    (np.sqrt(2) * np.exp(3 * np.pi * 1j / 4), '√2 * e^(3πi/4)'),\n",
        "    (1 / np.exp(np.pi * 1j / 4), '1/e^(πi/4)'),\n",
        "    (np.exp(-np.pi * 1j) / np.exp(np.pi * 1j / 4), 'e^(-πi)/e^(πi/4)'),\n",
        "    (np.exp(2009 * np.pi * 1j), 'e^(2009πi)')\n",
        "]\n",
        "\n",
        "# Pobranie części rzeczywistej i urojonej oraz etykiet\n",
        "real_parts = [z.real for z, _ in expressions]\n",
        "imag_parts = [z.imag for z, _ in expressions]\n",
        "labels = [label for _, label in expressions]\n",
        "\n",
        "# Rysowanie wykresu\n",
        "plt.figure(figsize=(10, 6))\n",
        "plt.plot(real_parts, imag_parts, 'bo', label='Wyrażenia zespolone')\n",
        "\n",
        "# Dodanie etykiet do punktów\n",
        "for i, label in enumerate(labels):\n",
        "    plt.text(real_parts[i], imag_parts[i], label, fontsize=9, ha='left', va='bottom')\n",
        "\n",
        "# Dodanie strzałek wychodzących z punktu (0,0)\n",
        "for z, _ in expressions:\n",
        "    plt.quiver(0, 0, z.real, z.imag, angles='xy', scale_units='xy', scale=1, color='red', width=0.01)\n",
        "\n",
        "# Zaznaczenie osi\n",
        "plt.axhline(0, color='black',linewidth=0.5)\n",
        "plt.axvline(0, color='black',linewidth=0.5)\n",
        "\n",
        "plt.xlabel('Re')\n",
        "plt.ylabel('Im')\n",
        "plt.title('Wykres wartości wyrażeń zespolonych')\n",
        "plt.grid(True)\n",
        "plt.legend()\n",
        "plt.show()\n"
      ],
      "metadata": {
        "colab": {
          "base_uri": "https://localhost:8080/",
          "height": 565
        },
        "id": "se07eXLRoWPg",
        "outputId": "bcb3178c-f0e2-44f9-c420-4198da043cc4"
      },
      "execution_count": null,
      "outputs": [
        {
          "output_type": "display_data",
          "data": {
            "text/plain": [
              "<Figure size 1000x600 with 1 Axes>"
            ],
            "image/png": "[encoded data removed]"
          },
          "metadata": {}
        }
      ]
    },
    {
      "cell_type": "code",
      "source": [
        "import numpy as np\n",
        "import pandas as pd\n",
        "\n",
        "# Wyrażenia zespolone\n",
        "expressions = [\n",
        "    ('e^(πi/3)', np.exp(np.pi * 1j / 3)),\n",
        "    ('e^(πi/2)', np.exp(np.pi * 1j / 2)),\n",
        "    ('√2 * e^(3πi/4)', np.sqrt(2) * np.exp(3 * np.pi * 1j / 4)),\n",
        "    ('1/e^(πi/4)', 1 / np.exp(np.pi * 1j / 4)),\n",
        "    ('e^(-πi)/e^(πi/4)', np.exp(-np.pi * 1j) / np.exp(np.pi * 1j / 4)),\n",
        "    ('e^(2009πi)', np.exp(2009 * np.pi * 1j))\n",
        "]\n",
        "\n",
        "# Obliczanie wartości liczb zespolonych\n",
        "results = []\n",
        "for label, expression in expressions:\n",
        "    result = np.round(expression, 5)\n",
        "    results.append((label, result.real, result.imag))\n",
        "\n",
        "# Tworzenie DataFrame\n",
        "df = pd.DataFrame(results, columns=['Wyrażenie', 'Re', 'Im'])\n",
        "\n",
        "print(df)\n"
      ],
      "metadata": {
        "colab": {
          "base_uri": "https://localhost:8080/"
        },
        "id": "swj4zcalpsz8",
        "outputId": "f866c037-fed6-43d9-e4c9-af7bf9b67615"
      },
      "execution_count": null,
      "outputs": [
        {
          "output_type": "stream",
          "name": "stdout",
          "text": [
            "          Wyrażenie       Re       Im\n",
            "0          e^(πi/3)  0.50000  0.86603\n",
            "1          e^(πi/2)  0.00000  1.00000\n",
            "2    √2 * e^(3πi/4) -1.00000  1.00000\n",
            "3        1/e^(πi/4)  0.70711 -0.70711\n",
            "4  e^(-πi)/e^(πi/4) -0.70711  0.70711\n",
            "5        e^(2009πi) -1.00000  0.00000\n"
          ]
        }
      ]
    },
    {
      "cell_type": "markdown",
      "source": [
        "##5) Udowodnić, że:\n",
        "  cos t = e^it + e^-it / 2"
      ],
      "metadata": {
        "id": "5uUs-97oqPUT"
      }
    },
    {
      "cell_type": "code",
      "source": [
        "import sympy as sp\n",
        "\n",
        "# Definicja symbolu t\n",
        "t = sp.symbols('t')\n",
        "\n",
        "# Lewa strona równania\n",
        "left_side = sp.cos(t)\n",
        "\n",
        "# Prawa strona równania\n",
        "right_side = (sp.exp(sp.I*t) + sp.exp(-sp.I*t)) / 2\n",
        "\n",
        "# Porównanie obu stron równania\n",
        "equality = sp.Eq(left_side, right_side)\n",
        "\n",
        "# Wyświetlenie równania\n",
        "print(\"Równanie:\")\n",
        "print(equality)\n",
        "\n",
        "# Sprawdzenie czy obie strony równania są sobie równe\n",
        "print(\"\\nCzy obie strony równania są sobie równe?\")\n",
        "print(sp.simplify(left_side - right_side) == 0)\n"
      ],
      "metadata": {
        "colab": {
          "base_uri": "https://localhost:8080/"
        },
        "id": "LjMrqTzzqRQ4",
        "outputId": "d6502e25-ad8a-486f-a74f-3392228ab111"
      },
      "execution_count": null,
      "outputs": [
        {
          "output_type": "stream",
          "name": "stdout",
          "text": [
            "Równanie:\n",
            "Eq(cos(t), exp(I*t)/2 + exp(-I*t)/2)\n",
            "\n",
            "Czy obie strony równania są sobie równe?\n",
            "True\n"
          ]
        }
      ]
    },
    {
      "cell_type": "markdown",
      "source": [
        "  sin t = e^it - e^-it / 2"
      ],
      "metadata": {
        "id": "Vm4_yEJ7q94a"
      }
    },
    {
      "cell_type": "code",
      "source": [
        "import sympy as sp\n",
        "\n",
        "# Definicja symbolu t\n",
        "t = sp.symbols('t')\n",
        "\n",
        "# Lewa strona równania\n",
        "left_side = sp.sin(t)\n",
        "\n",
        "# Prawa strona równania\n",
        "right_side = (sp.exp(sp.I*t) - sp.exp(-sp.I*t)) / (2*sp.I)\n",
        "\n",
        "# Obliczenie wartości lewej i prawej strony równania dla konkretnych wartości t\n",
        "values_of_t = [0, 1, sp.pi/2, sp.pi]\n",
        "\n",
        "for t_value in values_of_t:\n",
        "    left_value = sp.simplify(left_side.subs(t, t_value))\n",
        "    right_value = sp.simplify(right_side.subs(t, t_value))\n",
        "    print(f't = {t_value}: Lewa strona = {left_value}, Prawa strona = {right_value}, Równość: {left_value == right_value}')\n"
      ],
      "metadata": {
        "colab": {
          "base_uri": "https://localhost:8080/"
        },
        "id": "YV9Un7gqq_YR",
        "outputId": "74a33a84-cbb5-4e5f-ce69-3ce19ce2ef65"
      },
      "execution_count": null,
      "outputs": [
        {
          "output_type": "stream",
          "name": "stdout",
          "text": [
            "t = 0: Lewa strona = 0, Prawa strona = 0, Równość: True\n",
            "t = 1: Lewa strona = sin(1), Prawa strona = sin(1), Równość: True\n",
            "t = pi/2: Lewa strona = 1, Prawa strona = 1, Równość: True\n",
            "t = pi: Lewa strona = 0, Prawa strona = 0, Równość: True\n"
          ]
        }
      ]
    },
    {
      "cell_type": "markdown",
      "source": [
        "##7) Znaleźć i narysować wszystkie rzeczywiste i zespolone pierwiastki równania: z^3+8=0\n",
        "\n",
        "Dla 𝑘 = 0,1,2, mamy:\n",
        "\n",
        "𝑧0 = 2 ⋅ (cos(𝜋\n",
        "3) + 𝑖sin(𝜋\n",
        "3)) = 2 ⋅ (1\n",
        "2 + 𝑖 √3\n",
        "2 ) = 1 + i√3 ≈ 1 + 1.73𝑖\n",
        "\n",
        "𝑧1 = 2 ⋅ (cos(𝜋) + 𝑖sin(𝜋)) = 2 ⋅ (−1 + 𝑖 ∗ 0) = −2\n",
        "\n",
        "𝑧2 = 2 ⋅ (cos(5𝜋\n",
        "3 ) + 𝑖sin(5𝜋\n",
        "3 )) = 2 ⋅ (1\n",
        "2 − 𝑖 √3\n",
        "2 ) = 1 − i√3 ≈ 1 − 1.73𝑖"
      ],
      "metadata": {
        "id": "4yJCLneMFqDW"
      }
    },
    {
      "cell_type": "code",
      "source": [
        "import sympy as sp\n",
        "import numpy as np\n",
        "import matplotlib.pyplot as plt\n",
        "\n",
        "# Definicja symbolu z\n",
        "z = sp.symbols('z')\n",
        "\n",
        "# Rozwiązanie równania z^3 + 8 = 0\n",
        "solutions = sp.solve(z**3 + 8, z)\n",
        "\n",
        "# Konwertowanie rozwiązań do postaci zespolonej\n",
        "complex_solutions = [complex(solution) for solution in solutions]\n",
        "\n",
        "# Wyświetlenie znalezionych pierwiastków\n",
        "print(\"Pierwiastki równania z^3 + 8 = 0:\")\n",
        "for i, solution in enumerate(complex_solutions):\n",
        "    print(f\"z_{i+1} = {solution}\")\n",
        "\n",
        "# Obliczenie modułów pierwiastków\n",
        "moduli = [abs(solution) for solution in complex_solutions]\n",
        "\n",
        "# Wyświetlenie modułów pierwiastków\n",
        "print(\"Moduły pierwiastków:\")\n",
        "for i, mod in enumerate(moduli):\n",
        "    print(f\"|z_{i+1}| = {mod}\")\n",
        "\n",
        "# Przygotowanie danych do wykresu\n",
        "real_parts = [sp.re(solution) for solution in complex_solutions]\n",
        "imag_parts = [sp.im(solution) for solution in complex_solutions]\n",
        "\n",
        "# Narysowanie pierwiastków na płaszczyźnie zespolonej\n",
        "plt.figure(figsize=(8, 6))\n",
        "plt.plot(real_parts, imag_parts, 'bo', label='Pierwiastki równania z^3 + 8 = 0')\n",
        "\n",
        "# Dodanie wektorów\n",
        "for solution in complex_solutions:\n",
        "    plt.quiver(0, 0, solution.real, solution.imag, angles='xy', scale_units='xy', scale=1, color='red')\n",
        "\n",
        "# Dodanie etykiet do punktów\n",
        "for i, solution in enumerate(complex_solutions):\n",
        "    plt.text(real_parts[i], imag_parts[i], f\"z_{i+1}\", fontsize=9, ha='left', va='bottom')\n",
        "\n",
        "# Zaznaczenie osi\n",
        "plt.axhline(0, color='black',linewidth=0.5)\n",
        "plt.axvline(0, color='black',linewidth=0.5)\n",
        "\n",
        "plt.xlabel('Re')\n",
        "plt.ylabel('Im')\n",
        "plt.title('Pierwiastki równania z^3 + 8 = 0 na płaszczyźnie zespolonej z wektorami')\n",
        "plt.grid(True)\n",
        "plt.legend()\n",
        "plt.show()\n"
      ],
      "metadata": {
        "colab": {
          "base_uri": "https://localhost:8080/",
          "height": 708
        },
        "id": "AX53swT5Gh_G",
        "outputId": "89c86e9d-3aaa-42cc-f776-4bcfdbcdc540"
      },
      "execution_count": null,
      "outputs": [
        {
          "output_type": "stream",
          "name": "stdout",
          "text": [
            "Pierwiastki równania z^3 + 8 = 0:\n",
            "z_1 = (-2+0j)\n",
            "z_2 = (1-1.7320508075688772j)\n",
            "z_3 = (1+1.7320508075688772j)\n",
            "Moduły pierwiastków:\n",
            "|z_1| = 2.0\n",
            "|z_2| = 2.0\n",
            "|z_3| = 2.0\n"
          ]
        },
        {
          "output_type": "display_data",
          "data": {
            "text/plain": [
              "<Figure size 800x600 with 1 Axes>"
            ],
            "image/png": "[encoded data removed]"
          },
          "metadata": {}
        }
      ]
    }
  ]
}